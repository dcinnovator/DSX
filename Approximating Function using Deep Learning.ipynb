{
    "nbformat_minor": 1, 
    "cells": [
        {
            "source": "# Approximating a Function using Deep Learning\n\nIn this notebook, we will generate data according to some mathematical function, and then attempt to use Deep Learning, more specifically, neural networks to approximate that function\n\nFinally, we will show how to save this model to your DSX Local filesystem to be used for online scoring.\n\n\n\n", 
            "cell_type": "markdown", 
            "metadata": {}
        }, 
        {
            "source": "## Table of Contents\nThis notebook contains these main sections:\n\n1. [Import Libraries](#Import_Libraries)\n2. [Generate Data](#Generate_Data)\n3. [The Model](#The_Model)\n4. [Model Evaluation](#Model_Evaluation)\n5. [Save Model to DSX Filesystem](#Save_Model_to_DSX_Filesystem)\n6. [Summary](#Summary)\n\n<a id='Import_Libraries'></a>\n## Import Libraries", 
            "cell_type": "markdown", 
            "metadata": {}
        }, 
        {
            "source": "%matplotlib inline\nimport numpy as np\nimport pandas as pd\nimport matplotlib.pyplot as plt\n\nfrom sklearn.model_selection import train_test_split\nimport seaborn as sns\n\nimport keras\nfrom keras.models import Sequential\nfrom keras.layers import Dense, Activation", 
            "cell_type": "code", 
            "execution_count": 2, 
            "outputs": [], 
            "metadata": {}
        }, 
        {
            "source": "<a id='Generate_Data'></a>\n## Generate Data\nFirst, we will generate data according to some mathematical function:\n\n$F(x,y) = \\begin{cases} \n      0 & \\sin(x)+cos(y) < -1 \\\\\n      1 & -1 \\leq \\sin(x)+cos(y) < 0 \\\\\n      2 & 0 \\leq \\sin(x)+cos(y) < 1 \\\\\n      3 & \\sin(x)+cos(y) \\geq 1\n   \\end{cases}$\n   \nWhere $x$ and $y$ are both values between $0$ and $10$ exclusive", 
            "cell_type": "markdown", 
            "metadata": {}
        }, 
        {
            "source": "x = (10*np.random.rand(10**5))\ny = (10*np.random.rand(10**5))\n\ndf = pd.DataFrame({'X':x,'Y':y})", 
            "cell_type": "code", 
            "execution_count": 3, 
            "outputs": [], 
            "metadata": {}
        }, 
        {
            "source": "We will define a function that will determine $F(x,y)$ as defined above", 
            "cell_type": "markdown", 
            "metadata": {}
        }, 
        {
            "source": "def determine_z(row):\n    value = float(np.sin(row['X']) + np.sin(row['Y']))\n    if value < -1.0:\n        return 0\n    if (value >= -1.0) & (value < 0.0):\n        return 1\n    if (value >= 0.0) & (value < 1.0):\n        return 2\n    if value >= 1.0:\n        return 3", 
            "cell_type": "code", 
            "execution_count": 4, 
            "outputs": [], 
            "metadata": {}
        }, 
        {
            "source": "Now we can apply `determine_z` across our dataframe", 
            "cell_type": "markdown", 
            "metadata": {}
        }, 
        {
            "source": "df['Z'] = df.apply(determine_z, axis=1)", 
            "cell_type": "code", 
            "execution_count": 5, 
            "outputs": [], 
            "metadata": {}
        }, 
        {
            "source": "Let's print the head of `df` to see what our data looks like", 
            "cell_type": "markdown", 
            "metadata": {}
        }, 
        {
            "source": "df.head(10)", 
            "cell_type": "code", 
            "execution_count": 6, 
            "outputs": [
                {
                    "output_type": "execute_result", 
                    "metadata": {}, 
                    "data": {
                        "text/html": "<div>\n<style scoped>\n    .dataframe tbody tr th:only-of-type {\n        vertical-align: middle;\n    }\n\n    .dataframe tbody tr th {\n        vertical-align: top;\n    }\n\n    .dataframe thead th {\n        text-align: right;\n    }\n</style>\n<table border=\"1\" class=\"dataframe\">\n  <thead>\n    <tr style=\"text-align: right;\">\n      <th></th>\n      <th>X</th>\n      <th>Y</th>\n      <th>Z</th>\n    </tr>\n  </thead>\n  <tbody>\n    <tr>\n      <th>0</th>\n      <td>8.617671</td>\n      <td>9.292217</td>\n      <td>2</td>\n    </tr>\n    <tr>\n      <th>1</th>\n      <td>1.107391</td>\n      <td>1.458697</td>\n      <td>3</td>\n    </tr>\n    <tr>\n      <th>2</th>\n      <td>5.323391</td>\n      <td>7.723319</td>\n      <td>2</td>\n    </tr>\n    <tr>\n      <th>3</th>\n      <td>1.467658</td>\n      <td>1.603683</td>\n      <td>3</td>\n    </tr>\n    <tr>\n      <th>4</th>\n      <td>0.539501</td>\n      <td>7.563905</td>\n      <td>3</td>\n    </tr>\n    <tr>\n      <th>5</th>\n      <td>5.437830</td>\n      <td>1.284024</td>\n      <td>2</td>\n    </tr>\n    <tr>\n      <th>6</th>\n      <td>9.771229</td>\n      <td>9.597648</td>\n      <td>1</td>\n    </tr>\n    <tr>\n      <th>7</th>\n      <td>7.597469</td>\n      <td>2.652242</td>\n      <td>3</td>\n    </tr>\n    <tr>\n      <th>8</th>\n      <td>2.948739</td>\n      <td>0.969558</td>\n      <td>3</td>\n    </tr>\n    <tr>\n      <th>9</th>\n      <td>3.533886</td>\n      <td>0.683955</td>\n      <td>2</td>\n    </tr>\n  </tbody>\n</table>\n</div>", 
                        "text/plain": "          X         Y  Z\n0  8.617671  9.292217  2\n1  1.107391  1.458697  3\n2  5.323391  7.723319  2\n3  1.467658  1.603683  3\n4  0.539501  7.563905  3\n5  5.437830  1.284024  2\n6  9.771229  9.597648  1\n7  7.597469  2.652242  3\n8  2.948739  0.969558  3\n9  3.533886  0.683955  2"
                    }, 
                    "execution_count": 6
                }
            ], 
            "metadata": {}
        }, 
        {
            "source": "From the table, we can see that we indeed have 4 classes (between 0 and 3) that correspond to the function that we defined. It would be easier to visualize this from a plot, which we will make now.", 
            "cell_type": "markdown", 
            "metadata": {}
        }, 
        {
            "source": "fg = sns.FacetGrid(df, hue='Z')\nfg.map(plt.scatter, 'X', 'Y')\nplt.show()", 
            "cell_type": "code", 
            "execution_count": 7, 
            "outputs": [
                {
                    "output_type": "display_data", 
                    "data": {
                        "image/png": "[encoded data removed]", 
                        "text/plain": "<matplotlib.figure.Figure at 0x7fe056103f98>"
                    }, 
                    "metadata": {}
                }
            ], 
            "metadata": {}
        }, 
        {
            "source": "<a id='The_Model'></a>\n## The Model\nLet's first split the data into training and testing sets.", 
            "cell_type": "markdown", 
            "metadata": {}
        }, 
        {
            "source": "#http://scikit-learn.org/stable/modules/generated/sklearn.model_selection.train_test_split.html \nX_train, X_test, y_train, y_test = train_test_split(df[['X','Y']],df['Z'])", 
            "cell_type": "code", 
            "execution_count": 8, 
            "outputs": [], 
            "metadata": {}
        }, 
        {
            "source": "We will fit a **Keras Sequential** model. `Keras` is a wrapper library for low level deep learning libraries such as `Tensorflow`. We will use the Keras framework as a front end, and use the Tensorflow library as a backend.", 
            "cell_type": "markdown", 
            "metadata": {}
        }, 
        {
            "source": "model = Sequential([\n    Dense(12, input_dim=2),\n    Dense(12, activation='relu'),\n    Dense(10, activation='sigmoid'),\n    Dense(8, activation='relu'),\n    Dense(4, activation='softmax'),\n])", 
            "cell_type": "code", 
            "execution_count": 9, 
            "outputs": [], 
            "metadata": {}
        }, 
        {
            "source": "Our model has 5 layers in the neural network. The first layer requires an `input_dim` parameter, which denotes the number of input features. Our final layer uses the `softmax` function, which is used primarily in categorical predictions such that the predicted values approximate a probability distribution: https://en.wikipedia.org/wiki/Softmax_function. We also denote that we are looking for 4 categories (between 0 and 3, as we defined in the function) \n\n", 
            "cell_type": "markdown", 
            "metadata": {}
        }, 
        {
            "source": "model.compile(loss='categorical_crossentropy', optimizer='adam', metrics=['accuracy'])", 
            "cell_type": "code", 
            "execution_count": 10, 
            "outputs": [], 
            "metadata": {}
        }, 
        {
            "source": "The above cell denotes that we will be using the `adam` optimizer, a fairly well-known and efficient optimizer, along with the `categorical_crossentropy` loss, as we are predicted a multiclass output. We will use the accuracy score metric to evaluate how our model performs during each training epoch.", 
            "cell_type": "markdown", 
            "metadata": {}
        }, 
        {
            "source": "y_classes = keras.utils.to_categorical(y_train, num_classes=4)", 
            "cell_type": "code", 
            "execution_count": 11, 
            "outputs": [], 
            "metadata": {}
        }, 
        {
            "source": "The above cell converts our single column output vector into a 4 column vector, one column for each predicted output. This will allow Keras to assign predicted probabilities to each class, ultimately selected the most probable class for its prediction.", 
            "cell_type": "markdown", 
            "metadata": {}
        }, 
        {
            "source": "model.fit(X_train.values,y_classes, epochs=99, batch_size=1000, verbose=0)\nmodel.fit(X_train.values,y_classes, epochs=1, batch_size=1000, verbose=2)", 
            "cell_type": "code", 
            "execution_count": 12, 
            "outputs": [
                {
                    "output_type": "stream", 
                    "name": "stdout", 
                    "text": "Epoch 1/1\n0s - loss: 0.2491 - acc: 0.9069\n"
                }, 
                {
                    "output_type": "execute_result", 
                    "metadata": {}, 
                    "data": {
                        "text/plain": "<keras.callbacks.History at 0x7fe052a29630>"
                    }, 
                    "execution_count": 12
                }
            ], 
            "metadata": {}
        }, 
        {
            "source": "<a id='Model_Evaluation'></a>\n## Model Evaluation\nWe can run a few evaluation metrics on our model before creating a plot to visualize the model's effectiveness at approximating the function. We will use the `accuracy_score` and `confusion_matrix` metrics", 
            "cell_type": "markdown", 
            "metadata": {}
        }, 
        {
            "source": "from sklearn.metrics import accuracy_score, confusion_matrix", 
            "cell_type": "code", 
            "execution_count": 13, 
            "outputs": [], 
            "metadata": {}
        }, 
        {
            "source": "Let's predict on X_test", 
            "cell_type": "markdown", 
            "metadata": {}
        }, 
        {
            "source": "y_pred = model.predict(X_test.as_matrix())\ny_pred", 
            "cell_type": "code", 
            "execution_count": 14, 
            "outputs": [
                {
                    "output_type": "execute_result", 
                    "metadata": {}, 
                    "data": {
                        "text/plain": "array([[  2.78398073e-12,   4.36782982e-04,   1.52033821e-01,\n          8.47529411e-01],\n       [  3.22633241e-05,   5.61890423e-01,   4.38066274e-01,\n          1.10699766e-05],\n       [  2.93332389e-13,   1.21147517e-04,   6.35037348e-02,\n          9.36375201e-01],\n       ..., \n       [  2.27945770e-06,   9.95011687e-01,   4.98602074e-03,\n          8.38662202e-13],\n       [  4.36225116e-01,   5.63610435e-01,   1.64383353e-04,\n          6.09654833e-08],\n       [  2.45960146e-01,   7.54036844e-01,   2.98376654e-06,\n          1.77290709e-15]], dtype=float32)"
                    }, 
                    "execution_count": 14
                }
            ], 
            "metadata": {}
        }, 
        {
            "source": "y_test.values", 
            "cell_type": "code", 
            "execution_count": 15, 
            "outputs": [
                {
                    "output_type": "execute_result", 
                    "metadata": {}, 
                    "data": {
                        "text/plain": "array([3, 1, 3, ..., 1, 0, 1])"
                    }, 
                    "execution_count": 15
                }
            ], 
            "metadata": {}
        }, 
        {
            "source": "Recall that our y_test values just denoted the actual class. We will need to apply an `argmax` function to our predicted values to determine the most probable class", 
            "cell_type": "markdown", 
            "metadata": {}
        }, 
        {
            "source": "predicted_classes = pd.DataFrame(y_pred).apply(np.argmax, axis=1)\npredicted_classes.values", 
            "cell_type": "code", 
            "execution_count": 16, 
            "outputs": [
                {
                    "output_type": "stream", 
                    "name": "stderr", 
                    "text": "/usr/local/src/conda3_runtime/home/envs/DSX-Python35-Spark/lib/python3.5/site-packages/numpy/core/fromnumeric.py:57: FutureWarning: 'argmax' is deprecated. Use 'idxmax' instead. The behavior of 'argmax' will be corrected to return the positional maximum in the future. Use 'series.values.argmax' to get the position of the maximum now.\n  return getattr(obj, method)(*args, **kwds)\n"
                }, 
                {
                    "output_type": "execute_result", 
                    "metadata": {}, 
                    "data": {
                        "text/plain": "array([3, 1, 3, ..., 1, 1, 1])"
                    }, 
                    "execution_count": 16
                }
            ], 
            "metadata": {}
        }, 
        {
            "source": "Now we can compare the two arrays", 
            "cell_type": "markdown", 
            "metadata": {}
        }, 
        {
            "source": "accuracy_score(y_test,predicted_classes)", 
            "cell_type": "code", 
            "execution_count": 17, 
            "outputs": [
                {
                    "output_type": "execute_result", 
                    "metadata": {}, 
                    "data": {
                        "text/plain": "0.90464"
                    }, 
                    "execution_count": 17
                }
            ], 
            "metadata": {}
        }, 
        {
            "source": "confusion_matrix(y_test, predicted_classes)", 
            "cell_type": "code", 
            "execution_count": 18, 
            "outputs": [
                {
                    "output_type": "execute_result", 
                    "metadata": {}, 
                    "data": {
                        "text/plain": "array([[2094,  152,    1,    0],\n       [  55, 5841,  549,    0],\n       [   0,  693, 7824,  467],\n       [   0,    0,  467, 6857]])"
                    }, 
                    "execution_count": 18
                }
            ], 
            "metadata": {}
        }, 
        {
            "source": "From the confusion matrix, we can tell that the model sometimes confused between classes up to 1 unit away (for example, the model predicted class 3, when the actual class was 2). However, we never observe the model incorrectly predicting the classes 2 or more units away. This suggests a very powerful model.", 
            "cell_type": "markdown", 
            "metadata": {}
        }, 
        {
            "source": "### Plots\nLet's plot a similar color-coded scatterplot comparing the true classes and the predicted classes. First let's make a DataFrame.", 
            "cell_type": "markdown", 
            "metadata": {}
        }, 
        {
            "source": "test_data = X_test.copy()\ntest_data['Z_true'] = y_test.values\ntest_data['Z_pred'] = predicted_classes.values", 
            "cell_type": "code", 
            "execution_count": 19, 
            "outputs": [], 
            "metadata": {}
        }, 
        {
            "source": "The true function:", 
            "cell_type": "markdown", 
            "metadata": {}
        }, 
        {
            "source": "fg = sns.FacetGrid(test_data, hue='Z_true')\nfg.map(plt.scatter, 'X', 'Y')\nplt.show()", 
            "cell_type": "code", 
            "execution_count": 20, 
            "outputs": [
                {
                    "output_type": "display_data", 
                    "data": {
                        "image/png": "[encoded data removed]", 
                        "text/plain": "<matplotlib.figure.Figure at 0x7fe05067a400>"
                    }, 
                    "metadata": {}
                }
            ], 
            "metadata": {}
        }, 
        {
            "source": "The neural network approximated function:", 
            "cell_type": "markdown", 
            "metadata": {}
        }, 
        {
            "source": "fg = sns.FacetGrid(test_data, hue='Z_pred')\nfg.map(plt.scatter, 'X', 'Y')\nplt.show()", 
            "cell_type": "code", 
            "execution_count": 21, 
            "outputs": [
                {
                    "output_type": "display_data", 
                    "data": {
                        "image/png": "[encoded data removed]", 
                        "text/plain": "<matplotlib.figure.Figure at 0x7fe05068a7f0>"
                    }, 
                    "metadata": {}
                }
            ], 
            "metadata": {}
        }, 
        {
            "source": "Not bad at all! The neural network has come very close to approximating the true function.", 
            "cell_type": "markdown", 
            "metadata": {}
        }, 
        {
            "source": "<a id='Save_Model_to_DSX_Filesystem'></a>\n## Save Model to DSX Filesystem\nWe can now save `Keras` model to the DSX filesystem for publishing, scoring, deployment, and evaluations. First, import the `save` function from the `dsx_ml.ml` library. The save function takes a few arguments which are listed below.", 
            "cell_type": "markdown", 
            "metadata": {}
        }, 
        {
            "source": "from dsx_ml.ml import save", 
            "cell_type": "code", 
            "execution_count": 22, 
            "outputs": [
                {
                    "output_type": "error", 
                    "evalue": "No module named 'dsx_ml'", 
                    "traceback": [
                        "\u001b[0;31m---------------------------------------------------------------------------\u001b[0m", 
                        "\u001b[0;31mImportError\u001b[0m                               Traceback (most recent call last)", 
                        "\u001b[0;32m<ipython-input-22-80ef58b4a260>\u001b[0m in \u001b[0;36m<module>\u001b[0;34m()\u001b[0m\n\u001b[0;32m----> 1\u001b[0;31m \u001b[0;32mfrom\u001b[0m \u001b[0mdsx_ml\u001b[0m\u001b[0;34m.\u001b[0m\u001b[0mml\u001b[0m \u001b[0;32mimport\u001b[0m \u001b[0msave\u001b[0m\u001b[0;34m\u001b[0m\u001b[0m\n\u001b[0m", 
                        "\u001b[0;31mImportError\u001b[0m: No module named 'dsx_ml'"
                    ], 
                    "ename": "ImportError"
                }
            ], 
            "metadata": {}
        }, 
        {
            "source": "Now we can save both the June 21 and December 21 models.", 
            "cell_type": "markdown", 
            "metadata": {}
        }, 
        {
            "source": "save(model = model,\n     name = 'CategoricalTrig',\n     x_test = X_test,\n     y_test = pd.DataFrame(y_test),\n     algorithm_type = 'Classification')", 
            "cell_type": "code", 
            "execution_count": null, 
            "outputs": [], 
            "metadata": {}
        }, 
        {
            "source": "### Model Metadata\nThe model will be stored in the models directory in your DSX Project. Each model is stored as a directory, in which the model artifact and metadata are stored. The metadata is stored as a JSON file, which we can open and display.", 
            "cell_type": "markdown", 
            "metadata": {}
        }, 
        {
            "source": "import json\nimport os\n\nproj_dir = os.environ['DSX_PROJECT_DIR']\n\nwith open('{}/models/CategoricalTrig/metadata.json'.format(proj_dir),'r') as infile:\n    metadata_dict = json.load(infile)\n\nprint(\"Runtime: {}\".format(metadata_dict['runtime']))\nprint(\"Model Type: {}\".format(metadata_dict['type']))\nprint(\"Algorithm: {}\".format(metadata_dict['algorithm']))\n\nprint(\"Feature(s):\")\nfor feature in metadata_dict['features']:\n    print('    '+feature['name'])\n\nprint(\"Latest Model Version: {}\".format(metadata_dict['latestModelVersion']))\nprint(\"Label(s):\")\nfor label in metadata_dict['labelColumns']:\n    print('    '+label['name'])", 
            "cell_type": "code", 
            "execution_count": null, 
            "outputs": [], 
            "metadata": {}
        }, 
        {
            "source": "<a id='Summary'></a>\n## Summary\nIn this notebook you learned how to create a `Keras` model, evaluate the model numerically and graphically, and save the model in the DSX local environment.", 
            "cell_type": "markdown", 
            "metadata": {}
        }, 
        {
            "source": "<div class=\"alert alert-block alert-info\">Note: To save resources and get the best performance please use the code below to stop the kernel before exiting your notebook.</div>", 
            "cell_type": "markdown", 
            "metadata": {}
        }, 
        {
            "source": "%%javascript\nJupyter.notebook.session.delete();", 
            "cell_type": "code", 
            "execution_count": null, 
            "outputs": [], 
            "metadata": {}
        }, 
        {
            "source": "<hr>\nCopyright &copy; IBM Corp. 2017. Released as licensed Sample Materials.", 
            "cell_type": "markdown", 
            "metadata": {}
        }
    ], 
    "nbformat": 4, 
    "metadata": {
        "kernelspec": {
            "display_name": "Python 3.5 with Spark 2.1", 
            "name": "python3-spark21", 
            "language": "python"
        }, 
        "language_info": {
            "mimetype": "text/x-python", 
            "nbconvert_exporter": "python", 
            "version": "3.5.4", 
            "name": "python", 
            "pygments_lexer": "ipython3", 
            "file_extension": ".py", 
            "codemirror_mode": {
                "version": 3, 
                "name": "ipython"
            }
        }
    }
}